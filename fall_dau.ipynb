{
 "cells": [
  {
   "cell_type": "code",
   "execution_count": 86,
   "id": "9dd3defb-6677-40ca-a1e6-a5ccbe773957",
   "metadata": {},
   "outputs": [],
   "source": [
    "import pandas as pd\n",
    "import pandahouse as ph\n",
    "import seaborn as sns\n",
    "import matplotlib.pyplot as plt\n",
    "%matplotlib inline\n",
    "\n",
    "connection = {'host': 'https://clickhouse.lab.karpov.courses',\n",
    "                      'database':'simulator_20230320',\n",
    "                      'user':'student', \n",
    "                      'password':'dpo_python_2020'\n",
    "                     }\n",
    "\n",
    "query = '''\n",
    "select user_id,\n",
    "        toDate(time) as date,\n",
    "        country,\n",
    "        city,\n",
    "        os\n",
    "from {db}.feed_actions \n",
    "where date = '2023-03-24' or date = '2023-03-23'\n",
    "'''\n",
    "\n",
    "df = ph.read_clickhouse(query, connection=connection)\n"
   ]
  },
  {
   "cell_type": "code",
   "execution_count": 87,
   "id": "4bab1548-6797-47f3-8007-cd81f66e87ca",
   "metadata": {},
   "outputs": [],
   "source": [
    "# Перевод даты в более удобный формат\n",
    "df['date'] = df.date.dt.day"
   ]
  },
  {
   "cell_type": "markdown",
   "id": "d78f1b0e-c2ea-47d1-ac28-0cadc4a3b23e",
   "metadata": {},
   "source": [
    "Проверим, есть ли влияние os на спад активности пользователей"
   ]
  },
  {
   "cell_type": "code",
   "execution_count": 88,
   "id": "136b6a60-8ce1-41b7-991d-8b987a1c3c9a",
   "metadata": {},
   "outputs": [
    {
     "data": {
      "text/html": [
       "<div>\n",
       "<style scoped>\n",
       "    .dataframe tbody tr th:only-of-type {\n",
       "        vertical-align: middle;\n",
       "    }\n",
       "\n",
       "    .dataframe tbody tr th {\n",
       "        vertical-align: top;\n",
       "    }\n",
       "\n",
       "    .dataframe thead th {\n",
       "        text-align: right;\n",
       "    }\n",
       "</style>\n",
       "<table border=\"1\" class=\"dataframe\">\n",
       "  <thead>\n",
       "    <tr style=\"text-align: right;\">\n",
       "      <th></th>\n",
       "      <th></th>\n",
       "      <th>user_id</th>\n",
       "    </tr>\n",
       "    <tr>\n",
       "      <th>date</th>\n",
       "      <th>os</th>\n",
       "      <th></th>\n",
       "    </tr>\n",
       "  </thead>\n",
       "  <tbody>\n",
       "    <tr>\n",
       "      <th rowspan=\"2\" valign=\"top\">23</th>\n",
       "      <th>Android</th>\n",
       "      <td>11173</td>\n",
       "    </tr>\n",
       "    <tr>\n",
       "      <th>iOS</th>\n",
       "      <td>5959</td>\n",
       "    </tr>\n",
       "    <tr>\n",
       "      <th rowspan=\"2\" valign=\"top\">24</th>\n",
       "      <th>Android</th>\n",
       "      <td>9235</td>\n",
       "    </tr>\n",
       "    <tr>\n",
       "      <th>iOS</th>\n",
       "      <td>4838</td>\n",
       "    </tr>\n",
       "  </tbody>\n",
       "</table>\n",
       "</div>"
      ],
      "text/plain": [
       "              user_id\n",
       "date os              \n",
       "23   Android    11173\n",
       "     iOS         5959\n",
       "24   Android     9235\n",
       "     iOS         4838"
      ]
     },
     "execution_count": 88,
     "metadata": {},
     "output_type": "execute_result"
    }
   ],
   "source": [
    "df.groupby(['date','os']).agg({'user_id': 'nunique'})"
   ]
  },
  {
   "cell_type": "markdown",
   "id": "60f84c08-beeb-44fc-b9ba-ecfb6906a750",
   "metadata": {},
   "source": [
    "Видно, что количество уникальных пользователей упало в обоих системах, значит, проблема не в этом \n",
    "Проверим активных пользователей по странам"
   ]
  },
  {
   "cell_type": "code",
   "execution_count": 89,
   "id": "2f1ea549-d0f1-4a1f-9430-7df431763583",
   "metadata": {},
   "outputs": [
    {
     "data": {
      "text/plain": [
       "<AxesSubplot:xlabel='country', ylabel='user_id'>"
      ]
     },
     "execution_count": 89,
     "metadata": {},
     "output_type": "execute_result"
    },
    {
     "data": {
      "image/png": "[encoded data removed]",
      "text/plain": [
       "<Figure size 720x432 with 1 Axes>"
      ]
     },
     "metadata": {
      "needs_background": "light"
     },
     "output_type": "display_data"
    }
   ],
   "source": [
    "# Посчет количества активных пользователей в каждой стране\n",
    "df_by_country = df.groupby(['date','country'], as_index=False).agg({'user_id': 'nunique'})\n",
    "\n",
    "# Визуализируем полученные данные для наглядности\n",
    "plt.figure(figsize=(10, 6))\n",
    "sns.barplot(data=df_by_country, x=\"country\", y=\"user_id\", hue=\"date\")"
   ]
  },
  {
   "cell_type": "markdown",
   "id": "b7b867c3-087a-4d3d-a19a-5e8820c750c1",
   "metadata": {},
   "source": [
    "Видно, что активных пользователей стало меньше именно в России, посмотрим чуть подробнее\n"
   ]
  },
  {
   "cell_type": "code",
   "execution_count": 90,
   "id": "27470ae3-4c0b-4276-994b-c3d07db46c5c",
   "metadata": {},
   "outputs": [
    {
     "data": {
      "text/html": [
       "<div>\n",
       "<style scoped>\n",
       "    .dataframe tbody tr th:only-of-type {\n",
       "        vertical-align: middle;\n",
       "    }\n",
       "\n",
       "    .dataframe tbody tr th {\n",
       "        vertical-align: top;\n",
       "    }\n",
       "\n",
       "    .dataframe thead th {\n",
       "        text-align: right;\n",
       "    }\n",
       "</style>\n",
       "<table border=\"1\" class=\"dataframe\">\n",
       "  <thead>\n",
       "    <tr style=\"text-align: right;\">\n",
       "      <th>date</th>\n",
       "      <th>city</th>\n",
       "      <th>23</th>\n",
       "      <th>24</th>\n",
       "      <th>diff</th>\n",
       "    </tr>\n",
       "  </thead>\n",
       "  <tbody>\n",
       "    <tr>\n",
       "      <th>841</th>\n",
       "      <td>Moscow</td>\n",
       "      <td>2319</td>\n",
       "      <td>0</td>\n",
       "      <td>2319</td>\n",
       "    </tr>\n",
       "    <tr>\n",
       "      <th>1152</th>\n",
       "      <td>Saint Petersburg</td>\n",
       "      <td>764</td>\n",
       "      <td>0</td>\n",
       "      <td>764</td>\n",
       "    </tr>\n",
       "    <tr>\n",
       "      <th>957</th>\n",
       "      <td>Novosibirsk</td>\n",
       "      <td>213</td>\n",
       "      <td>0</td>\n",
       "      <td>213</td>\n",
       "    </tr>\n",
       "    <tr>\n",
       "      <th>1603</th>\n",
       "      <td>Yekaterinburg</td>\n",
       "      <td>210</td>\n",
       "      <td>0</td>\n",
       "      <td>210</td>\n",
       "    </tr>\n",
       "    <tr>\n",
       "      <th>253</th>\n",
       "      <td>Chelyabinsk</td>\n",
       "      <td>195</td>\n",
       "      <td>155</td>\n",
       "      <td>40</td>\n",
       "    </tr>\n",
       "    <tr>\n",
       "      <th>...</th>\n",
       "      <td>...</td>\n",
       "      <td>...</td>\n",
       "      <td>...</td>\n",
       "      <td>...</td>\n",
       "    </tr>\n",
       "    <tr>\n",
       "      <th>1545</th>\n",
       "      <td>Volgograd</td>\n",
       "      <td>129</td>\n",
       "      <td>147</td>\n",
       "      <td>-18</td>\n",
       "    </tr>\n",
       "    <tr>\n",
       "      <th>1159</th>\n",
       "      <td>Samara</td>\n",
       "      <td>160</td>\n",
       "      <td>181</td>\n",
       "      <td>-21</td>\n",
       "    </tr>\n",
       "    <tr>\n",
       "      <th>1448</th>\n",
       "      <td>Ulyanovsk</td>\n",
       "      <td>77</td>\n",
       "      <td>102</td>\n",
       "      <td>-25</td>\n",
       "    </tr>\n",
       "    <tr>\n",
       "      <th>247</th>\n",
       "      <td>Cheboksary</td>\n",
       "      <td>49</td>\n",
       "      <td>75</td>\n",
       "      <td>-26</td>\n",
       "    </tr>\n",
       "    <tr>\n",
       "      <th>656</th>\n",
       "      <td>Krasnoyarsk</td>\n",
       "      <td>129</td>\n",
       "      <td>159</td>\n",
       "      <td>-30</td>\n",
       "    </tr>\n",
       "  </tbody>\n",
       "</table>\n",
       "<p>1695 rows × 4 columns</p>\n",
       "</div>"
      ],
      "text/plain": [
       "date              city    23   24  diff\n",
       "841             Moscow  2319    0  2319\n",
       "1152  Saint Petersburg   764    0   764\n",
       "957        Novosibirsk   213    0   213\n",
       "1603     Yekaterinburg   210    0   210\n",
       "253        Chelyabinsk   195  155    40\n",
       "...                ...   ...  ...   ...\n",
       "1545         Volgograd   129  147   -18\n",
       "1159            Samara   160  181   -21\n",
       "1448         Ulyanovsk    77  102   -25\n",
       "247         Cheboksary    49   75   -26\n",
       "656        Krasnoyarsk   129  159   -30\n",
       "\n",
       "[1695 rows x 4 columns]"
      ]
     },
     "execution_count": 90,
     "metadata": {},
     "output_type": "execute_result"
    }
   ],
   "source": [
    "# Посчет активных пользователей в каждом городе\n",
    "df_by_city = df.query('country == \"Russia\"')\\\n",
    "                .pivot_table(index='city', \n",
    "                             columns='date', \n",
    "                             values='user_id',\n",
    "                             aggfunc='nunique',\n",
    "                            fill_value = 0)\\\n",
    "                .reset_index()\n",
    "#Посчет разницы между активными пользователями 23 и 24 марта \n",
    "df_by_city['diff'] = df_by_city[23] - df_by_city[24]\n",
    "\n",
    "#Сортировка по величине различий\n",
    "df_by_city.sort_values('diff', ascending=False)"
   ]
  },
  {
   "cell_type": "markdown",
   "id": "cf23861d-73a2-4857-8403-0baa9aaee496",
   "metadata": {},
   "source": [
    "Из датафрейма видно, что 24 марта пользователи из Москвы, Санкт-Петербурга, Новосибирска и Екатеринбурга не смогли зайти в наше приложение"
   ]
  }
 ],
 "metadata": {
  "kernelspec": {
   "display_name": "Python 3 (ipykernel)",
   "language": "python",
   "name": "python3"
  },
  "language_info": {
   "codemirror_mode": {
    "name": "ipython",
    "version": 3
   },
   "file_extension": ".py",
   "mimetype": "text/x-python",
   "name": "python",
   "nbconvert_exporter": "python",
   "pygments_lexer": "ipython3",
   "version": "3.8.10"
  }
 },
 "nbformat": 4,
 "nbformat_minor": 5
}
